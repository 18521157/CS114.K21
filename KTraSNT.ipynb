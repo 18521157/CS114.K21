{
  "nbformat": 4,
  "nbformat_minor": 0,
  "metadata": {
    "colab": {
      "name": "KTraSNT.ipynb",
      "provenance": [],
      "authorship_tag": "ABX9TyOiggXoS5CIU1EdsGtTdp+u",
      "include_colab_link": true
    },
    "kernelspec": {
      "name": "python3",
      "display_name": "Python 3"
    }
  },
  "cells": [
    {
      "cell_type": "markdown",
      "metadata": {
        "id": "view-in-github",
        "colab_type": "text"
      },
      "source": [
        "<a href=\"https://colab.research.google.com/github/18521157/CS114.K21/blob/master/KTraSNT.ipynb\" target=\"_parent\"><img src=\"https://colab.research.google.com/assets/colab-badge.svg\" alt=\"Open In Colab\"/></a>"
      ]
    },
    {
      "cell_type": "code",
      "metadata": {
        "id": "--J1bwuTIC56",
        "colab_type": "code",
        "colab": {
          "base_uri": "https://localhost:8080/",
          "height": 52
        },
        "outputId": "a5c429ac-3abc-4025-c3c2-994a21ef2ed0"
      },
      "source": [
        "import math\n",
        "n=int(input())\n",
        "def KTSNT(n):\n",
        "  if(n < 2):\n",
        "    return 0\n",
        "  count = 0\n",
        "  value=math.sqrt(n)\n",
        "  i=2\n",
        "  while(i <= value):\n",
        "    if(n % i == 0):\n",
        "      count+=1\n",
        "    i+=1\n",
        "  if(count == 0):\n",
        "    return 1\n",
        "  else:\n",
        "    return 0   \n"
      ],
      "execution_count": 41,
      "outputs": [
        {
          "output_type": "stream",
          "text": [
            "23\n",
            "SNT\n"
          ],
          "name": "stdout"
        }
      ]
    }
  ]
}