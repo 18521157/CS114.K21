{
  "nbformat": 4,
  "nbformat_minor": 0,
  "metadata": {
    "colab": {
      "name": "Untitled5.ipynb",
      "provenance": [],
      "authorship_tag": "ABX9TyOlgl+X6B9hSguWfxHxo5bR",
      "include_colab_link": true
    },
    "kernelspec": {
      "name": "python3",
      "display_name": "Python 3"
    }
  },
  "cells": [
    {
      "cell_type": "markdown",
      "metadata": {
        "id": "view-in-github",
        "colab_type": "text"
      },
      "source": [
        "<a href=\"https://colab.research.google.com/github/18521157/CS114.K21/blob/master/SoArmstrong.ipynb\" target=\"_parent\"><img src=\"https://colab.research.google.com/assets/colab-badge.svg\" alt=\"Open In Colab\"/></a>"
      ]
    },
    {
      "cell_type": "code",
      "metadata": {
        "id": "EF0Y6N6MAIRG",
        "colab_type": "code",
        "colab": {
          "base_uri": "https://localhost:8080/",
          "height": 87
        },
        "outputId": "e1fcdb25-c083-4e01-9add-46322e87d090"
      },
      "source": [
        "a=int(input())\n",
        "while( a<=0 ):\n",
        "  a=int(input())\n",
        "dem=len(str(a))\n",
        "tong=0\n",
        "while(a>0):\n",
        "  x=a%10\n",
        "  a//=10\n",
        "  tong+=(x**dem)\n",
        "print(\"tong =\",tong)\n",
        "if(tong == a):\n",
        "  print(\"True\")\n",
        "else:\n",
        "  print(\"False\")\n",
        "print(type(a),type(tong))\n"
      ],
      "execution_count": 31,
      "outputs": [
        {
          "output_type": "stream",
          "text": [
            "407\n",
            "tong = 407\n",
            "False\n",
            "<class 'int'> <class 'int'>\n"
          ],
          "name": "stdout"
        }
      ]
    },
    {
      "cell_type": "code",
      "metadata": {
        "id": "VNVmvP4NGKA-",
        "colab_type": "code",
        "colab": {
          "base_uri": "https://localhost:8080/",
          "height": 175
        },
        "outputId": "ff8c5f09-48e5-4d50-e4d9-782c6cad29e3"
      },
      "source": [
        "a=int(input())\n",
        "tong=0\n",
        "while(a>0):\n",
        "  x=a%10\n",
        "  a//=10\n",
        "  print(x)\n",
        "  print(a)\n"
      ],
      "execution_count": 16,
      "outputs": [
        {
          "output_type": "stream",
          "text": [
            "1234\n",
            "4\n",
            "123\n",
            "3\n",
            "12\n",
            "2\n",
            "1\n",
            "1\n",
            "0\n"
          ],
          "name": "stdout"
        }
      ]
    }
  ]
}