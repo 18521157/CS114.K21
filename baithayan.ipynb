{
  "nbformat": 4,
  "nbformat_minor": 0,
  "metadata": {
    "colab": {
      "name": "baithayan",
      "provenance": [],
      "authorship_tag": "ABX9TyP6oAxK3J9ziTmGiQLFMHEc",
      "include_colab_link": true
    },
    "kernelspec": {
      "name": "python3",
      "display_name": "Python 3"
    }
  },
  "cells": [
    {
      "cell_type": "markdown",
      "metadata": {
        "id": "view-in-github",
        "colab_type": "text"
      },
      "source": [
        "<a href=\"https://colab.research.google.com/github/18521157/CS114.K21/blob/master/baithayan.ipynb\" target=\"_parent\"><img src=\"https://colab.research.google.com/assets/colab-badge.svg\" alt=\"Open In Colab\"/></a>"
      ]
    },
    {
      "cell_type": "code",
      "metadata": {
        "id": "fgW1IXxmZEgz",
        "colab_type": "code",
        "outputId": "84f2478e-2335-454d-c7fa-6cd1e484a670",
        "colab": {
          "base_uri": "https://localhost:8080/",
          "height": 34
        }
      },
      "source": [
        "from numpy import loadtxt\n",
        "from urllib.request import urlopen\n",
        "url = 'https://cs.uit.edu.vn/data.txt'\n",
        "raw_data = urlopen(url)\n",
        "dataset = loadtxt(raw_data, delimiter=\",\")\n",
        "print(dataset.shape)\n"
      ],
      "execution_count": 3,
      "outputs": [
        {
          "output_type": "stream",
          "text": [
            "(5211, 2)\n"
          ],
          "name": "stdout"
        }
      ]
    },
    {
      "cell_type": "code",
      "metadata": {
        "id": "eW0XUwq8d031",
        "colab_type": "code",
        "outputId": "c01177ed-4111-4f22-959a-72a2ac43b5c2",
        "colab": {
          "base_uri": "https://localhost:8080/",
          "height": 157
        }
      },
      "source": [
        "from sklearn.model_selection import train_test_split\n",
        "X, y = dataset[:, :1], dataset[:, -1]\n",
        "print(X)\n",
        "print(y)\n",
        "X_train, X_test, Y_train, Y_test = train_test_split(X, y, test_size=0.20, random_state=1)"
      ],
      "execution_count": 5,
      "outputs": [
        {
          "output_type": "stream",
          "text": [
            "[[4032139.]\n",
            " [2055486.]\n",
            " [5626651.]\n",
            " ...\n",
            " [4794647.]\n",
            " [4440131.]\n",
            " [2033708.]]\n",
            "[1.20058  0.509774 1.47608  ... 1.29307  1.19653  0.517288]\n"
          ],
          "name": "stdout"
        }
      ]
    },
    {
      "cell_type": "code",
      "metadata": {
        "id": "YPqsG-cIil8_",
        "colab_type": "code",
        "outputId": "b16358cd-ae3b-4ba3-f147-abad6f06237d",
        "colab": {
          "base_uri": "https://localhost:8080/",
          "height": 34
        }
      },
      "source": [
        "from sklearn.linear_model import LinearRegression\n",
        "model = LinearRegression()\n",
        "model.fit(X_train, Y_train)"
      ],
      "execution_count": 6,
      "outputs": [
        {
          "output_type": "execute_result",
          "data": {
            "text/plain": [
              "LinearRegression(copy_X=True, fit_intercept=True, n_jobs=None, normalize=False)"
            ]
          },
          "metadata": {
            "tags": []
          },
          "execution_count": 6
        }
      ]
    },
    {
      "cell_type": "code",
      "metadata": {
        "id": "5_0aVQJRlw0m",
        "colab_type": "code",
        "colab": {}
      },
      "source": [
        "pred = model.predict(X_test)"
      ],
      "execution_count": 0,
      "outputs": []
    },
    {
      "cell_type": "code",
      "metadata": {
        "id": "WENOQwRDnMQ8",
        "colab_type": "code",
        "outputId": "638416ca-ecac-40f6-9dba-39b803105077",
        "colab": {
          "base_uri": "https://localhost:8080/",
          "height": 52
        }
      },
      "source": [
        "import sklearn.metrics as metrics\n",
        "print('train:', model.score(X_train,Y_train))\n",
        "print('test:', model.score(X_test,Y_test))"
      ],
      "execution_count": 9,
      "outputs": [
        {
          "output_type": "stream",
          "text": [
            "train: 0.9973077417386709\n",
            "test: 0.9977809213496908\n"
          ],
          "name": "stdout"
        }
      ]
    }
  ]
}