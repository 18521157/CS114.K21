{
  "nbformat": 4,
  "nbformat_minor": 0,
  "metadata": {
    "colab": {
      "name": "baithayan",
      "provenance": [],
      "authorship_tag": "ABX9TyPcPjl+PuI4Fd3dcuV2yhsM",
      "include_colab_link": true
    },
    "kernelspec": {
      "name": "python3",
      "display_name": "Python 3"
    }
  },
  "cells": [
    {
      "cell_type": "markdown",
      "metadata": {
        "id": "view-in-github",
        "colab_type": "text"
      },
      "source": [
        "<a href=\"https://colab.research.google.com/github/18521157/CS114.K21/blob/master/baithayan.ipynb\" target=\"_parent\"><img src=\"https://colab.research.google.com/assets/colab-badge.svg\" alt=\"Open In Colab\"/></a>"
      ]
    },
    {
      "cell_type": "code",
      "metadata": {
        "id": "fgW1IXxmZEgz",
        "colab_type": "code",
        "colab": {
          "base_uri": "https://localhost:8080/",
          "height": 34
        },
        "outputId": "6d75d4f1-2fef-4a98-c9a4-610923cf90ac"
      },
      "source": [
        "from numpy import loadtxt\n",
        "from urllib.request import urlopen\n",
        "url = 'https://cs.uit.edu.vn/data.txt'\n",
        "raw_data = urlopen(url)\n",
        "dataset = loadtxt(raw_data, delimiter=\",\")\n",
        "print(dataset.shape)\n"
      ],
      "execution_count": 7,
      "outputs": [
        {
          "output_type": "stream",
          "text": [
            "(5211, 2)\n"
          ],
          "name": "stdout"
        }
      ]
    },
    {
      "cell_type": "code",
      "metadata": {
        "id": "eW0XUwq8d031",
        "colab_type": "code",
        "colab": {
          "base_uri": "https://localhost:8080/",
          "height": 157
        },
        "outputId": "b15c5c46-eb56-4ac2-ea7f-328b8fe384b2"
      },
      "source": [
        "X, y = dataset[:, :1], dataset[:, -1]\n",
        "print(X)\n",
        "print(y)\n",
        "X_train, X_test, Y_train, Y_test = train_test_split(X, y, test_size=0.20, random_state=1)"
      ],
      "execution_count": 12,
      "outputs": [
        {
          "output_type": "stream",
          "text": [
            "[[4032139.]\n",
            " [2055486.]\n",
            " [5626651.]\n",
            " ...\n",
            " [4794647.]\n",
            " [4440131.]\n",
            " [2033708.]]\n",
            "[1.20058  0.509774 1.47608  ... 1.29307  1.19653  0.517288]\n"
          ],
          "name": "stdout"
        }
      ]
    },
    {
      "cell_type": "code",
      "metadata": {
        "id": "YPqsG-cIil8_",
        "colab_type": "code",
        "colab": {
          "base_uri": "https://localhost:8080/",
          "height": 34
        },
        "outputId": "7e267743-2bce-44b4-f8b7-cc1bcac6058a"
      },
      "source": [
        "from sklearn.linear_model import LinearRegression\n",
        "model = LinearRegression()\n",
        "model.fit(X_train, Y_train)"
      ],
      "execution_count": 19,
      "outputs": [
        {
          "output_type": "execute_result",
          "data": {
            "text/plain": [
              "LinearRegression(copy_X=True, fit_intercept=True, n_jobs=None, normalize=False)"
            ]
          },
          "metadata": {
            "tags": []
          },
          "execution_count": 19
        }
      ]
    },
    {
      "cell_type": "code",
      "metadata": {
        "id": "5_0aVQJRlw0m",
        "colab_type": "code",
        "colab": {}
      },
      "source": [
        "pred = model.predict(X_test)"
      ],
      "execution_count": 0,
      "outputs": []
    },
    {
      "cell_type": "code",
      "metadata": {
        "id": "WENOQwRDnMQ8",
        "colab_type": "code",
        "colab": {
          "base_uri": "https://localhost:8080/",
          "height": 34
        },
        "outputId": "7a4d885d-2ab5-4769-d9aa-db1ef724a2d8"
      },
      "source": [
        "import sklearn.metrics as metrics\n",
        "print('test:', model.score(X_test,Y_test))"
      ],
      "execution_count": 25,
      "outputs": [
        {
          "output_type": "stream",
          "text": [
            "test: 0.9977809213496908\n"
          ],
          "name": "stdout"
        }
      ]
    }
  ]
}