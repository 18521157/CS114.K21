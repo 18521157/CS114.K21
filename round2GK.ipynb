{
  "nbformat": 4,
  "nbformat_minor": 0,
  "metadata": {
    "colab": {
      "name": "round2.ipynb",
      "provenance": [],
      "authorship_tag": "ABX9TyNV6RSWnnDI4lUqe1dswf0S",
      "include_colab_link": true
    },
    "kernelspec": {
      "name": "python3",
      "display_name": "Python 3"
    }
  },
  "cells": [
    {
      "cell_type": "markdown",
      "metadata": {
        "id": "view-in-github",
        "colab_type": "text"
      },
      "source": [
        "<a href=\"https://colab.research.google.com/github/18521157/CS114.K21/blob/master/round2GK.ipynb\" target=\"_parent\"><img src=\"https://colab.research.google.com/assets/colab-badge.svg\" alt=\"Open In Colab\"/></a>"
      ]
    },
    {
      "cell_type": "markdown",
      "metadata": {
        "id": "xF3fNuGRuOtT",
        "colab_type": "text"
      },
      "source": [
        "Lấy dữ liệu:\n",
        "Dùng hàm loadtxt từ thư viện numpy để load file từ http://cs.uit.edu.vn/data2.txt, sau đó in số dòng, số cột của dataset."
      ]
    },
    {
      "cell_type": "code",
      "metadata": {
        "id": "6o9-u9sAsZjB",
        "colab_type": "code",
        "colab": {
          "base_uri": "https://localhost:8080/",
          "height": 34
        },
        "outputId": "e0b52703-b00a-4a73-94db-6b6313702fc4"
      },
      "source": [
        "from numpy import loadtxt\n",
        "from urllib.request import urlopen\n",
        "url = 'http://cs.uit.edu.vn/data2.txt'\n",
        "raw_data = urlopen(url)\n",
        "dataset = loadtxt(raw_data, delimiter=\",\")\n",
        "print(dataset.shape)"
      ],
      "execution_count": 2,
      "outputs": [
        {
          "output_type": "stream",
          "text": [
            "(71115, 2)\n"
          ],
          "name": "stdout"
        }
      ]
    },
    {
      "cell_type": "markdown",
      "metadata": {
        "id": "8SaDC3p9ujWW",
        "colab_type": "text"
      },
      "source": [
        "Chia dataset : Dùng hàm train_test_split từ thư viện sklearn để chia dataset thành 2 phần: 80% train và 20% test.\n",
        "\n"
      ]
    },
    {
      "cell_type": "code",
      "metadata": {
        "id": "hv4gq0u0tK8Z",
        "colab_type": "code",
        "colab": {
          "base_uri": "https://localhost:8080/",
          "height": 157
        },
        "outputId": "22dba5c2-57fe-4fc3-e212-ed998a4d5fcc"
      },
      "source": [
        "from sklearn.model_selection import train_test_split\n",
        "X, y = dataset[:, :1], dataset[:, -1]\n",
        "print(X)\n",
        "print(y)\n",
        "X_train, X_test, Y_train, Y_test = train_test_split(X, y, test_size=0.20, random_state=1)"
      ],
      "execution_count": 3,
      "outputs": [
        {
          "output_type": "stream",
          "text": [
            "[[6083695.]\n",
            " [1954367.]\n",
            " [3734185.]\n",
            " ...\n",
            " [9837364.]\n",
            " [9466593.]\n",
            " [4080801.]]\n",
            "[0.521842 0.152648 0.298548 ... 0.801394 0.776407 0.314468]\n"
          ],
          "name": "stdout"
        }
      ]
    },
    {
      "cell_type": "markdown",
      "metadata": {
        "id": "lp4QbhKNu3tr",
        "colab_type": "text"
      },
      "source": [
        "Chọn model và train: Chọn model LinearRegresion từ sklearn để train.\n",
        "\n"
      ]
    },
    {
      "cell_type": "code",
      "metadata": {
        "id": "iVTVyvhitQZ_",
        "colab_type": "code",
        "colab": {
          "base_uri": "https://localhost:8080/",
          "height": 34
        },
        "outputId": "70602f5c-5b12-4f11-e650-77b1cd51f945"
      },
      "source": [
        "from sklearn.linear_model import LinearRegression\n",
        "model = LinearRegression()\n",
        "model.fit(X_train, Y_train)"
      ],
      "execution_count": 4,
      "outputs": [
        {
          "output_type": "execute_result",
          "data": {
            "text/plain": [
              "LinearRegression(copy_X=True, fit_intercept=True, n_jobs=None, normalize=False)"
            ]
          },
          "metadata": {
            "tags": []
          },
          "execution_count": 4
        }
      ]
    },
    {
      "cell_type": "markdown",
      "metadata": {
        "id": "J6i3WpOMvCaz",
        "colab_type": "text"
      },
      "source": [
        "Dự đoán:"
      ]
    },
    {
      "cell_type": "code",
      "metadata": {
        "id": "N6tja3GItVLH",
        "colab_type": "code",
        "colab": {}
      },
      "source": [
        "pred = model.predict(X_test)"
      ],
      "execution_count": 0,
      "outputs": []
    },
    {
      "cell_type": "markdown",
      "metadata": {
        "id": "4QoBYlRevIUd",
        "colab_type": "text"
      },
      "source": [
        "Đánh giá:\n",
        "MSE = 0,0001444 => nhỏ => rất tốt"
      ]
    },
    {
      "cell_type": "code",
      "metadata": {
        "id": "lBFPureNtYct",
        "colab_type": "code",
        "colab": {
          "base_uri": "https://localhost:8080/",
          "height": 70
        },
        "outputId": "8517905d-869b-4bf9-9adf-54d35f6d3f68"
      },
      "source": [
        "import sklearn.metrics as metrics\n",
        "print('MSE:',metrics.mean_squared_error(Y_test,pred))\n",
        "print('train:', model.score(X_train,Y_train))\n",
        "print('test:', model.score(X_test,Y_test))\n"
      ],
      "execution_count": 10,
      "outputs": [
        {
          "output_type": "stream",
          "text": [
            "MSE: 0.00014442191299350495\n",
            "train: 0.9975974570639091\n",
            "test: 0.9975725646439418\n"
          ],
          "name": "stdout"
        }
      ]
    }
  ]
}