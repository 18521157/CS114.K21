{
  "nbformat": 4,
  "nbformat_minor": 0,
  "metadata": {
    "colab": {
      "name": "Untitled2.ipynb",
      "provenance": [],
      "authorship_tag": "ABX9TyOVt2qBBju5RPlniqo9fReS",
      "include_colab_link": true
    },
    "kernelspec": {
      "name": "python3",
      "display_name": "Python 3"
    }
  },
  "cells": [
    {
      "cell_type": "markdown",
      "metadata": {
        "id": "view-in-github",
        "colab_type": "text"
      },
      "source": [
        "<a href=\"https://colab.research.google.com/github/18521157/CS114.K21/blob/master/tamgiac.ipynb\" target=\"_parent\"><img src=\"https://colab.research.google.com/assets/colab-badge.svg\" alt=\"Open In Colab\"/></a>"
      ]
    },
    {
      "cell_type": "code",
      "metadata": {
        "id": "ckBiIMlcRod8",
        "colab_type": "code",
        "colab": {}
      },
      "source": [
        ""
      ],
      "execution_count": 0,
      "outputs": []
    },
    {
      "cell_type": "code",
      "metadata": {
        "id": "NTMXfIQ54zWn",
        "colab_type": "code",
        "colab": {
          "base_uri": "https://localhost:8080/",
          "height": 52
        },
        "outputId": "651d83c0-97d4-4f6a-b6e9-5759da1a6dc7"
      },
      "source": [
        "from math import*\n",
        "a,b,c=input().split()\n",
        "a=float(a)\n",
        "b=float(b)\n",
        "c=float(c)\n",
        "def tinhS(a,b,c):\n",
        "  p= (a+b+c) / 2\n",
        "  S= math.sqrt(p*(p-a)*(p-b)*(p-c))\n",
        "  return round(S,2)\n",
        "if(a==b and a==c and b==c and ( a<(b+c) and b<(a+c) and c<(a+b) )):\n",
        "  print(\"Tam giac deu, dien tich =\",tinhS(a,b,c)) \n",
        "elif((a==b or a==c or b==c) and ( a<(b+c) and b<(a+c) and c<(a+b) )):\n",
        "  print(\"Tam giac can, dien tich =\",tinhS(a,b,c))\n",
        "elif( (( a**2 == (b**2 + c**2) ) or ( b**2 == (a**2 + c**2) ) or ( c**2 == (a**2 + b**2) )) and ( a<(b+c) and b<(a+c) and c<(a+b) ) ):\n",
        "  print(\"Tam giac vuong, dien tich =\",tinhS(a,b,c))\n",
        "elif( a<(b+c) and b<(a+c) and c<(a+b) ):\n",
        "  print(\"Tam giac thuong, dien tich =\",tinhS(a,b,c))\n",
        "else:\n",
        "  print(\"Khong phai tam giac\")\n"
      ],
      "execution_count": 70,
      "outputs": [
        {
          "output_type": "stream",
          "text": [
            "1 2 3\n",
            "Khong phai tam giac\n"
          ],
          "name": "stdout"
        }
      ]
    }
  ]
}