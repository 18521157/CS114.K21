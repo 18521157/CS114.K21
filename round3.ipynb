{
  "nbformat": 4,
  "nbformat_minor": 0,
  "metadata": {
    "colab": {
      "name": "round3.ipynb",
      "provenance": [],
      "authorship_tag": "ABX9TyP5hnjlXqByOya54QIF6mqD",
      "include_colab_link": true
    },
    "kernelspec": {
      "name": "python3",
      "display_name": "Python 3"
    }
  },
  "cells": [
    {
      "cell_type": "markdown",
      "metadata": {
        "id": "view-in-github",
        "colab_type": "text"
      },
      "source": [
        "<a href=\"https://colab.research.google.com/github/18521157/CS114.K21/blob/master/round3.ipynb\" target=\"_parent\"><img src=\"https://colab.research.google.com/assets/colab-badge.svg\" alt=\"Open In Colab\"/></a>"
      ]
    },
    {
      "cell_type": "markdown",
      "metadata": {
        "id": "xF3fNuGRuOtT",
        "colab_type": "text"
      },
      "source": [
        "**Lấy dữ liệu:**\n",
        "Dùng hàm loadtxt từ thư viện numpy để load file từ http://cs.uit.edu.vn/data3.txt, sau đó in số dòng, số cột của dataset."
      ]
    },
    {
      "cell_type": "code",
      "metadata": {
        "id": "6o9-u9sAsZjB",
        "colab_type": "code",
        "outputId": "fb0e96bb-ecc7-4313-a69f-d1a8d6176db0",
        "colab": {
          "base_uri": "https://localhost:8080/",
          "height": 34
        }
      },
      "source": [
        "from numpy import loadtxt\n",
        "from urllib.request import urlopen\n",
        "url = 'http://cs.uit.edu.vn/data3.txt'\n",
        "raw_data = urlopen(url)\n",
        "dataset = loadtxt(raw_data, delimiter=\",\")\n",
        "print(dataset.shape)"
      ],
      "execution_count": 0,
      "outputs": [
        {
          "output_type": "stream",
          "text": [
            "(10590, 2)\n"
          ],
          "name": "stdout"
        }
      ]
    },
    {
      "cell_type": "markdown",
      "metadata": {
        "id": "rsG1qI8Chzfn",
        "colab_type": "text"
      },
      "source": [
        "**Chia dataset :** Dùng hàm train_test_split từ thư viện sklearn để chia dataset thành 2 phần: 80% train và 20% test."
      ]
    },
    {
      "cell_type": "code",
      "metadata": {
        "id": "hv4gq0u0tK8Z",
        "colab_type": "code",
        "outputId": "4d236ba5-b6ba-4599-89ab-6170633cbf1c",
        "colab": {
          "base_uri": "https://localhost:8080/",
          "height": 157
        }
      },
      "source": [
        "from sklearn.model_selection import train_test_split\n",
        "X, y = dataset[:, :1], dataset[:, -1]\n",
        "print(X)\n",
        "print(y)\n",
        "X_train, X_test, Y_train, Y_test = train_test_split(X, y, test_size=0.20, random_state=1)"
      ],
      "execution_count": 0,
      "outputs": [
        {
          "output_type": "stream",
          "text": [
            "[[37837612.]\n",
            " [37395246.]\n",
            " [36610827.]\n",
            " ...\n",
            " [33520323.]\n",
            " [21243264.]\n",
            " [21380484.]]\n",
            "[4.12166 3.92089 3.2154  ... 2.90918 1.80292 1.82795]\n"
          ],
          "name": "stdout"
        }
      ]
    },
    {
      "cell_type": "markdown",
      "metadata": {
        "id": "lp4QbhKNu3tr",
        "colab_type": "text"
      },
      "source": [
        "**Chọn model và train:** Chọn model LinearRegresion từ sklearn để train.\n",
        "\n"
      ]
    },
    {
      "cell_type": "code",
      "metadata": {
        "id": "iVTVyvhitQZ_",
        "colab_type": "code",
        "outputId": "400f0f6b-ff9d-457a-da4c-3e0dcdc4c461",
        "colab": {
          "base_uri": "https://localhost:8080/",
          "height": 34
        }
      },
      "source": [
        "from sklearn.linear_model import LinearRegression\n",
        "model = LinearRegression()\n",
        "model.fit(X_train, Y_train)"
      ],
      "execution_count": 0,
      "outputs": [
        {
          "output_type": "execute_result",
          "data": {
            "text/plain": [
              "LinearRegression(copy_X=True, fit_intercept=True, n_jobs=None, normalize=False)"
            ]
          },
          "metadata": {
            "tags": []
          },
          "execution_count": 13
        }
      ]
    },
    {
      "cell_type": "markdown",
      "metadata": {
        "id": "J6i3WpOMvCaz",
        "colab_type": "text"
      },
      "source": [
        "**Dự đoán:**"
      ]
    },
    {
      "cell_type": "code",
      "metadata": {
        "id": "N6tja3GItVLH",
        "colab_type": "code",
        "colab": {}
      },
      "source": [
        "pred = model.predict(X_test)"
      ],
      "execution_count": 0,
      "outputs": []
    },
    {
      "cell_type": "code",
      "metadata": {
        "id": "lBFPureNtYct",
        "colab_type": "code",
        "outputId": "e1a478a7-ee2b-4366-9fd4-a842c8378a73",
        "colab": {
          "base_uri": "https://localhost:8080/",
          "height": 70
        }
      },
      "source": [
        "import sklearn.metrics as metrics\n",
        "print('MSE:',metrics.mean_squared_error(Y_test,pred))\n",
        "print('train:', model.score(X_train,Y_train))\n",
        "print('test:', model.score(X_test,Y_test))\n"
      ],
      "execution_count": 0,
      "outputs": [
        {
          "output_type": "stream",
          "text": [
            "MSE: 0.0029732305247697818\n",
            "train: 0.9877941176410101\n",
            "test: 0.9897290008911028\n"
          ],
          "name": "stdout"
        }
      ]
    },
    {
      "cell_type": "markdown",
      "metadata": {
        "id": "jD-TeCWpylGE",
        "colab_type": "text"
      },
      "source": [
        "**Ta thấy:** Vấn đề tệ hơn: MSE(data3) = 0,00297 => lớn hơn MSE(data2)) = 0.000144.\n",
        "**Giải thích:**"
      ]
    },
    {
      "cell_type": "markdown",
      "metadata": {
        "id": "OUvDGh_yy9wZ",
        "colab_type": "text"
      },
      "source": [
        "# **Xây dựng model mới và ứng dụng dự báo mới sử dụng phương pháp tăng số features đã gợi ý trên lớp:**"
      ]
    },
    {
      "cell_type": "markdown",
      "metadata": {
        "id": "SQjmprTy5oyS",
        "colab_type": "text"
      },
      "source": [
        "**Lấy dữ liệu:** Load dataset từ http://cs.uit.edu.vn/data3.txt bằng hàm loadtxt từ numpy.\n",
        "Sau đó đổi type của dataset từ numpy.ndarray => pandas.core.frame.DataFrame."
      ]
    },
    {
      "cell_type": "code",
      "metadata": {
        "id": "QLfhp6c6y7-4",
        "colab_type": "code",
        "outputId": "d49d4d8b-53dd-4c62-d189-b99fbdade1f1",
        "colab": {
          "base_uri": "https://localhost:8080/",
          "height": 34
        }
      },
      "source": [
        "from numpy import loadtxt\n",
        "import pandas as pd\n",
        "from urllib.request import urlopen\n",
        "url = 'http://cs.uit.edu.vn/data3.txt'\n",
        "raw_data = urlopen(url)\n",
        "dataset = loadtxt(raw_data, delimiter=\",\")\n",
        "print(dataset.shape)\n",
        "newdataset=pd.DataFrame(data=dataset)\n",
        "newdataset.columns = [\"size\",\"time\"]"
      ],
      "execution_count": 1,
      "outputs": [
        {
          "output_type": "stream",
          "text": [
            "(10590, 2)\n"
          ],
          "name": "stdout"
        }
      ]
    },
    {
      "cell_type": "markdown",
      "metadata": {
        "id": "10Z17f4_5r6r",
        "colab_type": "text"
      },
      "source": [
        "**Thêm 2 features : size^2 và log(size)**"
      ]
    },
    {
      "cell_type": "code",
      "metadata": {
        "id": "opfTWyD2zjqx",
        "colab_type": "code",
        "outputId": "bb259241-d866-4218-f40a-2c74df048fc8",
        "colab": {
          "base_uri": "https://localhost:8080/",
          "height": 263
        }
      },
      "source": [
        "import math\n",
        "df=pd.DataFrame(newdataset)\n",
        "Size2=df['size']**2\n",
        "Sizelog=[df['size'][i]*math.log(df['size'][i]) for i in range(len(newdataset))]\n",
        "df['Size2']=Size2\n",
        "df['Sizelog']=Sizelog\n",
        "print(newdataset)"
      ],
      "execution_count": 2,
      "outputs": [
        {
          "output_type": "stream",
          "text": [
            "             size     time         Size2       Sizelog\n",
            "0      37837612.0  4.12166  1.431685e+15  6.602215e+08\n",
            "1      37395246.0  3.92089  1.398404e+15  6.520629e+08\n",
            "2      36610827.0  3.21540  1.340353e+15  6.376088e+08\n",
            "3      29555651.0  2.54506  8.735365e+14  5.084100e+08\n",
            "4      25928216.0  2.21831  6.722724e+14  4.426165e+08\n",
            "...           ...      ...           ...           ...\n",
            "10585  26872494.0  2.35117  7.221309e+14  4.596974e+08\n",
            "10586  20753811.0  1.79155  4.307207e+14  3.496652e+08\n",
            "10587  33520323.0  2.90918  1.123612e+15  5.808288e+08\n",
            "10588  21243264.0  1.80292  4.512763e+14  3.584068e+08\n",
            "10589  21380484.0  1.82795  4.571251e+14  3.608596e+08\n",
            "\n",
            "[10590 rows x 4 columns]\n"
          ],
          "name": "stdout"
        }
      ]
    },
    {
      "cell_type": "markdown",
      "metadata": {
        "id": "TLty5q-IiL-_",
        "colab_type": "text"
      },
      "source": [
        "**Chia dataset :** Dùng hàm train_test_split từ thư viện sklearn để chia dataset thành 2 phần: 80% train và 20% test."
      ]
    },
    {
      "cell_type": "code",
      "metadata": {
        "id": "ACE6W-RB5-em",
        "colab_type": "code",
        "colab": {}
      },
      "source": [
        "from sklearn.model_selection import train_test_split\n",
        "X2=newdataset[[\"size\",\"Size2\",\"Sizelog\"]]\n",
        "y2=newdataset[\"time\"].values.reshape(-1,1)\n",
        "X_train2, X_test2, Y_train2, Y_test2 = train_test_split(X2, y2, test_size=0.20, random_state=1)"
      ],
      "execution_count": 0,
      "outputs": []
    },
    {
      "cell_type": "markdown",
      "metadata": {
        "id": "C1rsnanyiSyK",
        "colab_type": "text"
      },
      "source": [
        "**Chọn model và train:** Chọn model LinearRegresion từ sklearn để train."
      ]
    },
    {
      "cell_type": "code",
      "metadata": {
        "id": "YV8J0UzI639B",
        "colab_type": "code",
        "outputId": "d8d654e0-eafb-4541-8087-2037060b36d0",
        "colab": {
          "base_uri": "https://localhost:8080/",
          "height": 34
        }
      },
      "source": [
        "from sklearn.linear_model import LinearRegression\n",
        "model = LinearRegression()\n",
        "model.fit(X_train2, Y_train2)"
      ],
      "execution_count": 4,
      "outputs": [
        {
          "output_type": "execute_result",
          "data": {
            "text/plain": [
              "LinearRegression(copy_X=True, fit_intercept=True, n_jobs=None, normalize=False)"
            ]
          },
          "metadata": {
            "tags": []
          },
          "execution_count": 4
        }
      ]
    },
    {
      "cell_type": "markdown",
      "metadata": {
        "id": "nNiZm-NniXNw",
        "colab_type": "text"
      },
      "source": [
        "**Dự đoán:**"
      ]
    },
    {
      "cell_type": "code",
      "metadata": {
        "id": "Jf2-aSwN7OhP",
        "colab_type": "code",
        "colab": {}
      },
      "source": [
        "pred2 = model.predict(X_test2)"
      ],
      "execution_count": 0,
      "outputs": []
    },
    {
      "cell_type": "code",
      "metadata": {
        "id": "dkB5DNo97VpI",
        "colab_type": "code",
        "outputId": "c16406ed-5066-4135-ac86-4dd6c008a95e",
        "colab": {
          "base_uri": "https://localhost:8080/",
          "height": 70
        }
      },
      "source": [
        "import sklearn.metrics as metrics\n",
        "print('MSE2:',metrics.mean_squared_error(Y_test2,pred2))\n",
        "print('train2:', model.score(X_train2,Y_train2))\n",
        "print('test2:', model.score(X_test2,Y_test2))"
      ],
      "execution_count": 6,
      "outputs": [
        {
          "output_type": "stream",
          "text": [
            "MSE2: 0.0029729965832469333\n",
            "train2: 0.9878348218741277\n",
            "test2: 0.9897298090400682\n"
          ],
          "name": "stdout"
        }
      ]
    },
    {
      "cell_type": "markdown",
      "metadata": {
        "id": "3rMt_6do8ur0",
        "colab_type": "text"
      },
      "source": [
        "**So với các kết quả cũ:**\n",
        "\n",
        "*   MSE(cũ) : 0.0029732305247697818\n",
        "*   MSE(mới): 0.0029729965832469333 (giảm)\n",
        "\n",
        "*   train(cũ):  0.9877941176410101\n",
        "*   train(mới): 0.9878348218741277 (tăng)\n",
        "\n",
        "*   test(cũ):  0.9897290008911028\n",
        "*   test(mới): 0.9897298090400682 (tăng)\n",
        "\n",
        "\n",
        "\n",
        "\n"
      ]
    }
  ]
}